{
  "nbformat": 4,
  "nbformat_minor": 0,
  "metadata": {
    "colab": {
      "provenance": [],
      "authorship_tag": "ABX9TyOjGOIAFsYvayzedINthktz",
      "include_colab_link": true
    },
    "kernelspec": {
      "name": "python3",
      "display_name": "Python 3"
    },
    "language_info": {
      "name": "python"
    }
  },
  "cells": [
    {
      "cell_type": "markdown",
      "metadata": {
        "id": "view-in-github",
        "colab_type": "text"
      },
      "source": [
        "<a href=\"https://colab.research.google.com/github/asepalfatih/UTS-KRIPTO/blob/main/Affine_Chiper.ipynb\" target=\"_parent\"><img src=\"https://colab.research.google.com/assets/colab-badge.svg\" alt=\"Open In Colab\"/></a>"
      ]
    },
    {
      "cell_type": "code",
      "execution_count": null,
      "metadata": {
        "colab": {
          "base_uri": "https://localhost:8080/"
        },
        "id": "2gjuhJlqVpxQ",
        "outputId": "c18a2c2c-647a-440e-b827-d35867e0861f"
      },
      "outputs": [
        {
          "output_type": "stream",
          "name": "stdout",
          "text": [
            "Masukkan plaintext: Pelita Bangsa\n",
            "Encrypted Text: Fclwzi Nivmui\n",
            "Decrypted Text: Pelita Bangsa\n"
          ]
        }
      ],
      "source": [
        "def mod_inverse(a, m):\n",
        "    # Menghitung invers modulo menggunakan Algoritma Euclidean Extended\n",
        "    m0, x0, x1 = m, 0, 1\n",
        "    while a > 1:\n",
        "        q = a // m\n",
        "        m, a = a % m, m\n",
        "        x0, x1 = x1 - q * x0, x0\n",
        "    return x1 + m0 if x1 < 0 else x1\n",
        "\n",
        "def encrypt(text, key):\n",
        "    # Fungsi untuk mengenkripsi teks menggunakan Affine Cipher\n",
        "    result = \"\"\n",
        "    for char in text:\n",
        "        if char.isalpha():\n",
        "            # Mengenkripsi hanya huruf alfabet\n",
        "            if char.isupper():\n",
        "                result += chr((key[0] * (ord(char) - ord('A')) + key[1]) % 26 + ord('A'))\n",
        "            else:\n",
        "                result += chr((key[0] * (ord(char) - ord('a')) + key[1]) % 26 + ord('a'))\n",
        "        else:\n",
        "            # Menyimpan karakter selain huruf tanpa perubahan\n",
        "            result += char\n",
        "    return result\n",
        "\n",
        "def decrypt(ciphertext, key):\n",
        "    # Fungsi untuk mendekripsi teks menggunakan Affine Cipher\n",
        "    result = \"\"\n",
        "    mod_inverse_a = mod_inverse(key[0], 26)\n",
        "    for char in ciphertext:\n",
        "        if char.isalpha():\n",
        "            # Mendekripsi hanya huruf alfabet\n",
        "            if char.isupper():\n",
        "                result += chr((mod_inverse_a * (ord(char) - ord('A') - key[1])) % 26 + ord('A'))\n",
        "            else:\n",
        "                result += chr((mod_inverse_a * (ord(char) - ord('a') - key[1])) % 26 + ord('a'))\n",
        "        else:\n",
        "            # Menyimpan karakter selain huruf tanpa perubahan\n",
        "            result += char\n",
        "    return result\n",
        "\n",
        "def main():\n",
        "    # Meminta input dari pengAseguna\n",
        "    plaintext = input(\"Masukkan plaintext: \").strip()\n",
        "    key = (5, 8)  # contoh kunci, bisa diganti dengan kunci yang lain\n",
        "\n",
        "    # Mengenkripsi teks\n",
        "    encrypted_text = encrypt(plaintext, key)\n",
        "    print(\"Encrypted Text:\", encrypted_text)\n",
        "\n",
        "    # Mendekripsi teks\n",
        "    decrypted_text = decrypt(encrypted_text, key)\n",
        "    print(\"Decrypted Text:\", decrypted_text)\n",
        "\n",
        "if __name__ == \"__main__\":\n",
        "    main()\n"
      ]
    }
  ]
}