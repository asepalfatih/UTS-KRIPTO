{
  "nbformat": 4,
  "nbformat_minor": 0,
  "metadata": {
    "colab": {
      "provenance": [],
      "authorship_tag": "ABX9TyPTV2aUG6t+ZJ5T5iQmFl4w",
      "include_colab_link": true
    },
    "kernelspec": {
      "name": "python3",
      "display_name": "Python 3"
    },
    "language_info": {
      "name": "python"
    }
  },
  "cells": [
    {
      "cell_type": "markdown",
      "metadata": {
        "id": "view-in-github",
        "colab_type": "text"
      },
      "source": [
        "<a href=\"https://colab.research.google.com/github/asepalfatih/UTS-KRIPTO/blob/main/Vigenre_Chiper.ipynb\" target=\"_parent\"><img src=\"https://colab.research.google.com/assets/colab-badge.svg\" alt=\"Open In Colab\"/></a>"
      ]
    },
    {
      "cell_type": "code",
      "execution_count": null,
      "metadata": {
        "colab": {
          "base_uri": "https://localhost:8080/"
        },
        "id": "9GT9i3EPKUt8",
        "outputId": "8ad2a184-589a-4973-bdc4-7731e2cdb566"
      },
      "outputs": [
        {
          "output_type": "stream",
          "name": "stdout",
          "text": [
            "Masukkan plaintext: Pelita Bangsa\n",
            "Masukkan kunci: FreePalestine\n",
            "Encrypted Text: Uvpmia Fsgofe\n",
            "Decrypted Text: Pelita Bangsa\n"
          ]
        }
      ],
      "source": [
        "def vigenere_encrypt(plain_text, key):\n",
        "    encrypted_text = \"\"\n",
        "    key_length = len(key)\n",
        "\n",
        "    for i in range(len(plain_text)):\n",
        "        char = plain_text[i]\n",
        "        if char.isalpha():\n",
        "            # Shift karakter berdasarkan huruf kunci\n",
        "            shift = ord(key[i % key_length].upper()) - ord('A')\n",
        "            if char.isupper():\n",
        "                encrypted_text += chr((ord(char) + shift - ord('A')) % 26 + ord('A'))\n",
        "            else:\n",
        "                encrypted_text += chr((ord(char) + shift - ord('a')) % 26 + ord('a'))\n",
        "        else:\n",
        "            # Biarkan karakter selain huruf tanpa perubahan\n",
        "            encrypted_text += char\n",
        "\n",
        "    return encrypted_text\n",
        "\n",
        "def vigenere_decrypt(cipher_text, key):\n",
        "    decrypted_text = \"\"\n",
        "    key_length = len(key)\n",
        "\n",
        "    for i in range(len(cipher_text)):\n",
        "        char = cipher_text[i]\n",
        "        if char.isalpha():\n",
        "            # Shift karakter berdasarkan huruf kunci\n",
        "            shift = ord(key[i % key_length].upper()) - ord('A')\n",
        "            if char.isupper():\n",
        "                decrypted_text += chr((ord(char) - shift - ord('A')) % 26 + ord('A'))\n",
        "            else:\n",
        "                decrypted_text += chr((ord(char) - shift - ord('a')) % 26 + ord('a'))\n",
        "        else:\n",
        "            # Biarkan karakter selain huruf tanpa perubahan\n",
        "            decrypted_text += char\n",
        "\n",
        "    return decrypted_text\n",
        "\n",
        "def main():\n",
        "    plaintext = input(\"Masukkan plaintext: \")\n",
        "    key = input(\"Masukkan kunci: \")\n",
        "\n",
        "    encrypted_text = vigenere_encrypt(plaintext, key)\n",
        "    print(\"Encrypted Text:\", encrypted_text)\n",
        "\n",
        "    decrypted_text = vigenere_decrypt(encrypted_text, key)\n",
        "    print(\"Decrypted Text:\", decrypted_text)\n",
        "\n",
        "if __name__ == \"__main__\":\n",
        "    main()\n"
      ]
    }
  ]
}