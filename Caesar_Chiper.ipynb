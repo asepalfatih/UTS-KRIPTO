{
  "nbformat": 4,
  "nbformat_minor": 0,
  "metadata": {
    "colab": {
      "provenance": [],
      "authorship_tag": "ABX9TyML2Vpswzn9BaWW2fygRoPp",
      "include_colab_link": true
    },
    "kernelspec": {
      "name": "python3",
      "display_name": "Python 3"
    },
    "language_info": {
      "name": "python"
    }
  },
  "cells": [
    {
      "cell_type": "markdown",
      "metadata": {
        "id": "view-in-github",
        "colab_type": "text"
      },
      "source": [
        "<a href=\"https://colab.research.google.com/github/asepalfatih/UTS-KRIPTO/blob/main/Caesar_Chiper.ipynb\" target=\"_parent\"><img src=\"https://colab.research.google.com/assets/colab-badge.svg\" alt=\"Open In Colab\"/></a>"
      ]
    },
    {
      "cell_type": "code",
      "execution_count": 2,
      "metadata": {
        "colab": {
          "base_uri": "https://localhost:8080/"
        },
        "id": "JGn53t36JMu9",
        "outputId": "63a88011-3cd5-4445-a7e7-82f40bfc0a0d"
      },
      "outputs": [
        {
          "output_type": "stream",
          "name": "stdout",
          "text": [
            "Masukkan plaintext: Pelita Bangsa\n",
            "Masukkan nilai shift: 4\n",
            "Encrypted Text: Tipmxe Ferkwe\n",
            "Decrypted Text: Pelita Bangsa\n"
          ]
        }
      ],
      "source": [
        "def caesar_encrypt(plain_text, shift):\n",
        "    result = \"\"\n",
        "    for char in plain_text:\n",
        "        if char.isalpha():\n",
        "            # Mengenkripsi hanya huruf alfabet\n",
        "            if char.isupper():\n",
        "                result += chr((ord(char) + shift - ord('A')) % 26 + ord('A'))\n",
        "            else:\n",
        "                result += chr((ord(char) + shift - ord('a')) % 26 + ord('a'))\n",
        "        else:\n",
        "            # Menyimpan karakter selain huruf tanpa perubahan\n",
        "            result += char\n",
        "    return result\n",
        "\n",
        "def caesar_decrypt(cipher_text, shift):\n",
        "    result = \"\"\n",
        "    for char in cipher_text:\n",
        "        if char.isalpha():\n",
        "            # Mendekripsi hanya huruf alfabet\n",
        "            if char.isupper():\n",
        "                result += chr((ord(char) - shift - ord('A')) % 26 + ord('A'))\n",
        "            else:\n",
        "                result += chr((ord(char) - shift - ord('a')) % 26 + ord('a'))\n",
        "        else:\n",
        "            # Menyimpan karakter selain huruf tanpa perubahan\n",
        "            result += char\n",
        "    return result\n",
        "\n",
        "def main():\n",
        "    plaintext = input(\"Masukkan plaintext: \")\n",
        "    shift = int(input(\"Masukkan nilai shift: \"))\n",
        "\n",
        "    encrypted_text = caesar_encrypt(plaintext, shift)\n",
        "    print(\"Encrypted Text:\", encrypted_text)\n",
        "\n",
        "    decrypted_text = caesar_decrypt(encrypted_text, shift)\n",
        "    print(\"Decrypted Text:\", decrypted_text)\n",
        "\n",
        "if __name__ == \"__main__\":\n",
        "    main()\n"
      ]
    }
  ]
}