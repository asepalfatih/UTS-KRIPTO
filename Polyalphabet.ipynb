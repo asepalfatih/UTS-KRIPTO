{
  "nbformat": 4,
  "nbformat_minor": 0,
  "metadata": {
    "colab": {
      "provenance": [],
      "authorship_tag": "ABX9TyMdYzHpcYMOXO1A0oDLCyJF",
      "include_colab_link": true
    },
    "kernelspec": {
      "name": "python3",
      "display_name": "Python 3"
    },
    "language_info": {
      "name": "python"
    }
  },
  "cells": [
    {
      "cell_type": "markdown",
      "metadata": {
        "id": "view-in-github",
        "colab_type": "text"
      },
      "source": [
        "<a href=\"https://colab.research.google.com/github/asepalfatih/UTS-KRIPTO/blob/main/Polyalphabet.ipynb\" target=\"_parent\"><img src=\"https://colab.research.google.com/assets/colab-badge.svg\" alt=\"Open In Colab\"/></a>"
      ]
    },
    {
      "cell_type": "code",
      "execution_count": null,
      "metadata": {
        "colab": {
          "base_uri": "https://localhost:8080/"
        },
        "id": "VYmEgaE8PmFg",
        "outputId": "a95b32b6-3d69-4acb-f99c-fa5b140e1a98"
      },
      "outputs": [
        {
          "output_type": "stream",
          "name": "stdout",
          "text": [
            "Masukkan plaintext: Asep Saepudin\n",
            "Masukkan kunci: Pelita Bangsa\n",
            "Encrypted Text: Pwpx Stfphjan\n",
            "Decrypted Text: Asep Saepudin\n"
          ]
        }
      ],
      "source": [
        "def polyalphabetic_encrypt(plain_text, key):\n",
        "    encrypted_text = \"\"\n",
        "    key_length = len(key)\n",
        "\n",
        "    for i in range(len(plain_text)):\n",
        "        char = plain_text[i]\n",
        "        if char.isalpha():\n",
        "            # Shift karakter berdasarkan huruf kunci\n",
        "            shift = ord(key[i % key_length].upper()) - ord('A')\n",
        "            if char.isupper():\n",
        "                encrypted_text += chr((ord(char) + shift - ord('A')) % 26 + ord('A'))\n",
        "            else:\n",
        "                encrypted_text += chr((ord(char) + shift - ord('a')) % 26 + ord('a'))\n",
        "        else:\n",
        "            # Biarkan karakter selain huruf tanpa perubahan\n",
        "            encrypted_text += char\n",
        "\n",
        "    return encrypted_text\n",
        "\n",
        "def polyalphabetic_decrypt(cipher_text, key):\n",
        "    decrypted_text = \"\"\n",
        "    key_length = len(key)\n",
        "\n",
        "    for i in range(len(cipher_text)):\n",
        "        char = cipher_text[i]\n",
        "        if char.isalpha():\n",
        "            # Shift karakter berdasarkan huruf kunci\n",
        "            shift = ord(key[i % key_length].upper()) - ord('A')\n",
        "            if char.isupper():\n",
        "                decrypted_text += chr((ord(char) - shift - ord('A')) % 26 + ord('A'))\n",
        "            else:\n",
        "                decrypted_text += chr((ord(char) - shift - ord('a')) % 26 + ord('a'))\n",
        "        else:\n",
        "            # Biarkan karakter selain huruf tanpa perubahan\n",
        "            decrypted_text += char\n",
        "\n",
        "    return decrypted_text\n",
        "\n",
        "def main():\n",
        "    plaintext = input(\"Masukkan plaintext: \")\n",
        "    key = input(\"Masukkan kunci: \")  # Kunci dapat berupa kata atau frase\n",
        "\n",
        "    encrypted_text = polyalphabetic_encrypt(plaintext, key)\n",
        "    print(\"Encrypted Text:\", encrypted_text)\n",
        "\n",
        "    decrypted_text = polyalphabetic_decrypt(encrypted_text, key)\n",
        "    print(\"Decrypted Text:\", decrypted_text)\n",
        "\n",
        "if __name__ == \"__main__\":\n",
        "    main()\n"
      ]
    }
  ]
}