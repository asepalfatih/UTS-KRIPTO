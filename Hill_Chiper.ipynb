{
  "nbformat": 4,
  "nbformat_minor": 0,
  "metadata": {
    "colab": {
      "provenance": [],
      "authorship_tag": "ABX9TyNBKLTc1hD19KXvpRD79Z3Y",
      "include_colab_link": true
    },
    "kernelspec": {
      "name": "python3",
      "display_name": "Python 3"
    },
    "language_info": {
      "name": "python"
    }
  },
  "cells": [
    {
      "cell_type": "markdown",
      "metadata": {
        "id": "view-in-github",
        "colab_type": "text"
      },
      "source": [
        "<a href=\"https://colab.research.google.com/github/asepalfatih/UTS-KRIPTO/blob/main/Hill_Chiper.ipynb\" target=\"_parent\"><img src=\"https://colab.research.google.com/assets/colab-badge.svg\" alt=\"Open In Colab\"/></a>"
      ]
    },
    {
      "cell_type": "code",
      "execution_count": null,
      "metadata": {
        "id": "GoKqknE_Q430",
        "outputId": "7645c35c-c4f5-47fa-ccdf-2a409f3694fb",
        "colab": {
          "base_uri": "https://localhost:8080/"
        }
      },
      "outputs": [
        {
          "output_type": "stream",
          "name": "stdout",
          "text": [
            "Masukkan plaintext: Asep Saepudin\n",
            "Cipher Text: CSGVIHOHFHOOAAN\n",
            "Decrypted Text: YEEQOJAXXWJLANA\n"
          ]
        }
      ],
      "source": [
        "import numpy as np\n",
        "\n",
        "def matrix_modulo_inverse(matrix, modulus):\n",
        "    det = int(round(np.linalg.det(matrix)))\n",
        "    det_inverse = pow(det, -1, modulus)\n",
        "    adjugate = np.round(det_inverse * np.linalg.inv(matrix)).astype(int) % modulus\n",
        "    return adjugate\n",
        "\n",
        "def encrypt(plain_text, key_matrix):\n",
        "    plain_text = [ord(char) - ord('A') for char in plain_text.upper()]\n",
        "    plain_text = np.array(plain_text)\n",
        "\n",
        "    if len(plain_text) % len(key_matrix) != 0:\n",
        "        padding = len(key_matrix) - len(plain_text) % len(key_matrix)\n",
        "        plain_text = np.append(plain_text, [0] * padding)\n",
        "\n",
        "    plain_text = plain_text.reshape(-1, len(key_matrix))\n",
        "\n",
        "    cipher_text = ''\n",
        "    for chunk in plain_text:\n",
        "        encrypted_chunk = np.dot(chunk, key_matrix) % 26\n",
        "        cipher_text += ''.join([chr(char + ord('A')) for char in encrypted_chunk])\n",
        "\n",
        "    return cipher_text\n",
        "\n",
        "def decrypt(cipher_text, key_matrix):\n",
        "    key_matrix_inverse = matrix_modulo_inverse(key_matrix, 26)\n",
        "\n",
        "    cipher_text = [ord(char) - ord('A') for char in cipher_text.upper()]\n",
        "    cipher_text = np.array(cipher_text).reshape(-1, len(key_matrix))\n",
        "\n",
        "    plain_text = ''\n",
        "    for chunk in cipher_text:\n",
        "        decrypted_chunk = np.dot(chunk, key_matrix_inverse) % 26\n",
        "        plain_text += ''.join([chr(char + ord('A')) for char in decrypted_chunk])\n",
        "\n",
        "    return plain_text\n",
        "\n",
        "def main():\n",
        "    key_matrix = np.array([[6, 24, 1], [13, 16, 10], [20, 17, 15]])  # Contoh kunci matriks 3x3, bisa diganti dengan kunci lain\n",
        "\n",
        "    plain_text = input(\"Masukkan plaintext: \")\n",
        "    cipher_text = encrypt(plain_text, key_matrix)\n",
        "\n",
        "    print(\"Cipher Text:\", cipher_text)\n",
        "\n",
        "    decrypted_text = decrypt(cipher_text, key_matrix)\n",
        "    print(\"Decrypted Text:\", decrypted_text)\n",
        "\n",
        "if __name__ == \"__main__\":\n",
        "    main()\n"
      ]
    }
  ]
}